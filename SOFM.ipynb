{
 "cells": [
  {
   "cell_type": "code",
   "execution_count": 31,
   "metadata": {},
   "outputs": [],
   "source": [
    "import pandas as pd\n",
    "import numpy as np\n",
    "import matplotlib.pyplot as plt\n",
    "%matplotlib inline"
   ]
  },
  {
   "cell_type": "code",
   "execution_count": 32,
   "metadata": {},
   "outputs": [
    {
     "name": "stdout",
     "output_type": "stream",
     "text": [
      "v= [[0 0 1 1]\n",
      " [1 0 0 0]\n",
      " [0 1 1 0]\n",
      " [0 0 0 1]]\n",
      "****-------****\n",
      "w= [[0.2 0.9]\n",
      " [0.4 0.7]\n",
      " [0.6 0.5]\n",
      " [0.8 0.3]]\n"
     ]
    }
   ],
   "source": [
    "v = np.array([[0,0,1,1], [1,0,0,0],[0,1,1,0],[0,0,0,1]])\n",
    "a = 0.5;\n",
    "w = np.array([[0.2,0.9],[0.4,0.7],[0.6,0.5],[0.8,0.3]])\n",
    "print('v=',v)\n",
    "print('****-------****')\n",
    "print('w=',w)\n"
   ]
  },
  {
   "cell_type": "code",
   "execution_count": 33,
   "metadata": {},
   "outputs": [],
   "source": [
    "def eucd(n):\n",
    "    d1=0\n",
    "    d2=0\n",
    "    for j in range(0,4):\n",
    "        d1+=(w[j][0]-v[n][j])**2\n",
    "        d2+=(w[j][1]-v[n][j])**2\n",
    "    print('D1={0},D2={1}'.format(d1,d2))\n",
    "    if d1<d2:\n",
    "        b=0\n",
    "    else:\n",
    "        b=1\n",
    "    for i in range(0,4):\n",
    "        w[i][b]=w[i][b]+a*(v[n][i]-w[i][b])\n",
    "    print(np.matrix(w))"
   ]
  },
  {
   "cell_type": "code",
   "execution_count": 34,
   "metadata": {},
   "outputs": [
    {
     "name": "stdout",
     "output_type": "stream",
     "text": [
      "D1=0.4000000000000001,D2=2.04\n",
      "[[0.1 0.9]\n",
      " [0.2 0.7]\n",
      " [0.8 0.5]\n",
      " [0.9 0.3]]\n"
     ]
    }
   ],
   "source": [
    "eucd(0)"
   ]
  },
  {
   "cell_type": "code",
   "execution_count": 35,
   "metadata": {},
   "outputs": [
    {
     "name": "stdout",
     "output_type": "stream",
     "text": [
      "D1=2.3000000000000003,D2=0.84\n",
      "[[0.1  0.95]\n",
      " [0.2  0.35]\n",
      " [0.8  0.25]\n",
      " [0.9  0.15]]\n"
     ]
    }
   ],
   "source": [
    "eucd(1)"
   ]
  },
  {
   "cell_type": "code",
   "execution_count": 36,
   "metadata": {},
   "outputs": [
    {
     "name": "stdout",
     "output_type": "stream",
     "text": [
      "D1=1.5000000000000002,D2=1.91\n",
      "[[0.05 0.95]\n",
      " [0.6  0.35]\n",
      " [0.9  0.25]\n",
      " [0.45 0.15]]\n"
     ]
    }
   ],
   "source": [
    "eucd(2)"
   ]
  },
  {
   "cell_type": "code",
   "execution_count": 37,
   "metadata": {},
   "outputs": [
    {
     "name": "stdout",
     "output_type": "stream",
     "text": [
      "D1=1.475,D2=1.8099999999999998\n",
      "[[0.025 0.95 ]\n",
      " [0.3   0.35 ]\n",
      " [0.45  0.25 ]\n",
      " [0.725 0.15 ]]\n"
     ]
    }
   ],
   "source": [
    "eucd(3)"
   ]
  }
 ],
 "metadata": {
  "kernelspec": {
   "display_name": "Python 3",
   "language": "python",
   "name": "python3"
  },
  "language_info": {
   "codemirror_mode": {
    "name": "ipython",
    "version": 3
   },
   "file_extension": ".py",
   "mimetype": "text/x-python",
   "name": "python",
   "nbconvert_exporter": "python",
   "pygments_lexer": "ipython3",
   "version": "3.8.5"
  }
 },
 "nbformat": 4,
 "nbformat_minor": 4
}
