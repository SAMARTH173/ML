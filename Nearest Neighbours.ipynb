{
 "cells": [
  {
   "cell_type": "code",
   "execution_count": 54,
   "metadata": {},
   "outputs": [
    {
     "name": "stdout",
     "output_type": "stream",
     "text": [
      "(20, 4)\n"
     ]
    }
   ],
   "source": [
    "#Done by Samarth kamat Be[Entc -1]\n",
    "import numpy as np\n",
    "import pandas as pd\n",
    "import matplotlib.pyplot as plt\n",
    "from math import sqrt\n",
    "# Reading Data\n",
    "data = pd.read_csv('NN.csv')\n",
    "print(data.shape)"
   ]
  },
  {
   "cell_type": "code",
   "execution_count": 55,
   "metadata": {},
   "outputs": [
    {
     "name": "stdout",
     "output_type": "stream",
     "text": [
      "row1:: [2.5  3.75 2.25 3.25 2.75 4.5  3.5  3.   4.   4.25 2.   5.   8.25 5.75\n",
      " 4.75 5.5  5.25 7.   7.5  7.25]\n",
      "row2:: [6.   8.   5.5  8.25 7.5  5.   5.25 3.25 4.   3.75 2.   2.5  8.5  8.75\n",
      " 6.25 6.75 9.5  4.25 8.   5.75]\n"
     ]
    }
   ],
   "source": [
    "#Seperating the Data\n",
    "row1= data['speed '].values\n",
    "row2 = data['agility'].values\n",
    "print(\"row1::\",row1)\n",
    "print(\"row2::\",row2)"
   ]
  },
  {
   "cell_type": "code",
   "execution_count": 56,
   "metadata": {},
   "outputs": [
    {
     "name": "stdout",
     "output_type": "stream",
     "text": [
      "{0: 5.202163011671203, 1: 5.830951894845301, 2: 5.1478150704935, 3: 6.309714732061981, 4: 6.020797289396148, 5: 3.010398644698074, 6: 3.952847075210474, 7: 3.758324094593227, 8: 2.9261749776799064, 9: 2.6100766272276377, 10: 4.8541219597369, 11: 1.8200274723201295, 12: 5.70087712549569, 13: 5.836308764964376, 14: 3.816084380618437, 15: 3.952847075210474, 16: 6.670832032063167, 17: 1.2747548783981961, 18: 5.055937104039171, 19: 2.7950849718747373}\n"
     ]
    },
    {
     "data": {
      "text/plain": [
       "[5.202163011671203,\n",
       " 5.830951894845301,\n",
       " 5.1478150704935,\n",
       " 6.309714732061981,\n",
       " 6.020797289396148,\n",
       " 3.010398644698074,\n",
       " 3.952847075210474,\n",
       " 3.758324094593227,\n",
       " 2.9261749776799064,\n",
       " 2.6100766272276377,\n",
       " 4.8541219597369,\n",
       " 1.8200274723201295,\n",
       " 5.70087712549569,\n",
       " 5.836308764964376,\n",
       " 3.816084380618437,\n",
       " 3.952847075210474,\n",
       " 6.670832032063167,\n",
       " 1.2747548783981961,\n",
       " 5.055937104039171,\n",
       " 2.7950849718747373]"
      ]
     },
     "execution_count": 56,
     "metadata": {},
     "output_type": "execute_result"
    }
   ],
   "source": [
    "import math\n",
    "x1=6.75\n",
    "x2=3\n",
    "ro=20\n",
    "distance = {}\n",
    "for i in range (20):\n",
    "    distance[i]=math.sqrt((row1[i]-x1)**2 +(row2[i]-x2)**2) \n",
    "    \n",
    "print(distance)\n",
    "l1 = list(distance.values())\n",
    "l1"
   ]
  },
  {
   "cell_type": "code",
   "execution_count": 57,
   "metadata": {},
   "outputs": [
    {
     "name": "stdout",
     "output_type": "stream",
     "text": [
      "    ID  speed   agility draft  distance\n",
      "0    1    2.50     6.00    no  5.202163\n",
      "1    2    3.75     8.00    no  5.830952\n",
      "2    3    2.25     5.50    no  5.147815\n",
      "3    4    3.25     8.25    no  6.309715\n",
      "4    5    2.75     7.50    no  6.020797\n",
      "5    6    4.50     5.00    no  3.010399\n",
      "6    7    3.50     5.25    no  3.952847\n",
      "7    8    3.00     3.25    no  3.758324\n",
      "8    9    4.00     4.00    no  2.926175\n",
      "9   10    4.25     3.75    no  2.610077\n",
      "10  11    2.00     2.00    no  4.854122\n",
      "11  12    5.00     2.50    no  1.820027\n",
      "12  13    8.25     8.50    no  5.700877\n",
      "13  14    5.75     8.75   yes  5.836309\n",
      "14  15    4.75     6.25   yes  3.816084\n",
      "15  16    5.50     6.75   yes  3.952847\n",
      "16  17    5.25     9.50   yes  6.670832\n",
      "17  18    7.00     4.25   yes  1.274755\n",
      "18  19    7.50     8.00   yes  5.055937\n",
      "19  20    7.25     5.75   yes  2.795085\n"
     ]
    }
   ],
   "source": [
    "data.insert(4, \"distance\",value =l1)\n",
    "print(data)"
   ]
  },
  {
   "cell_type": "code",
   "execution_count": 58,
   "metadata": {},
   "outputs": [
    {
     "name": "stdout",
     "output_type": "stream",
     "text": [
      "[5.20216301 5.83095189 5.14781507 6.30971473 6.02079729 3.01039864\n",
      " 3.95284708 3.75832409 2.92617498 2.61007663 4.85412196 1.82002747\n",
      " 5.70087713 5.83630876 3.81608438 3.95284708 6.67083203 1.27475488\n",
      " 5.0559371  2.79508497]\n",
      "[1.2747548783981961, 1.8200274723201295, 2.6100766272276377, 2.7950849718747373, 2.9261749776799064, 3.010398644698074, 3.758324094593227, 3.816084380618437, 3.952847075210474, 3.952847075210474, 4.8541219597369, 5.055937104039171, 5.1478150704935, 5.202163011671203, 5.70087712549569, 5.830951894845301, 5.836308764964376, 6.020797289396148, 6.309714732061981, 6.670832032063167]\n"
     ]
    }
   ],
   "source": [
    "row3= data['distance'].values\n",
    "print(row3)\n",
    "sorted_d = sorted(row3)\n",
    "print(sorted_d)"
   ]
  },
  {
   "cell_type": "code",
   "execution_count": 59,
   "metadata": {},
   "outputs": [
    {
     "name": "stdout",
     "output_type": "stream",
     "text": [
      "{5.202163011671203: 'no', 5.830951894845301: 'no', 5.1478150704935: 'no', 6.309714732061981: 'no', 6.020797289396148: 'no', 3.010398644698074: 'no', 3.952847075210474: 'yes', 3.758324094593227: 'no', 2.9261749776799064: 'no', 2.6100766272276377: 'no', 4.8541219597369: 'no', 1.8200274723201295: 'no', 5.70087712549569: 'no', 5.836308764964376: 'yes', 3.816084380618437: 'yes', 6.670832032063167: 'yes', 1.2747548783981961: 'yes', 5.055937104039171: 'yes', 2.7950849718747373: 'yes'}\n",
      "Dictionary in ascending order by value :  [1.2747548783981961, 1.8200274723201295, 2.6100766272276377, 2.7950849718747373, 2.9261749776799064, 3.010398644698074, 3.758324094593227, 3.816084380618437, 3.952847075210474, 4.8541219597369, 5.055937104039171, 5.1478150704935, 5.202163011671203, 5.70087712549569, 5.830951894845301, 5.836308764964376, 6.020797289396148, 6.309714732061981, 6.670832032063167]\n"
     ]
    }
   ],
   "source": [
    "row4 = data['draft'].values\n",
    "zip_iterator = zip(l1,row4 )\n",
    "a_dictionary = dict(zip_iterator)\n",
    "\n",
    "print(a_dictionary)\n",
    "sorted_d = sorted(a_dictionary.keys())\n",
    "print('Dictionary in ascending order by value : ',sorted_d)\n",
    "\n",
    "\n",
    "    "
   ]
  },
  {
   "cell_type": "code",
   "execution_count": 60,
   "metadata": {},
   "outputs": [
    {
     "name": "stdout",
     "output_type": "stream",
     "text": [
      "{0: 1.2747548783981961, 1: 1.8200274723201295, 2: 2.6100766272276377}\n",
      "[1.2747548783981961, 1.8200274723201295, 2.6100766272276377]\n"
     ]
    }
   ],
   "source": [
    "k=3;\n",
    "pr={}\n",
    "for i in range(k):\n",
    "    pr[i]=sorted_d[i]\n",
    "    \n",
    "print(pr)\n",
    "l2 = list(pr.values()) \n",
    "print(l2)\n",
    "\n"
   ]
  },
  {
   "cell_type": "code",
   "execution_count": 61,
   "metadata": {},
   "outputs": [
    {
     "name": "stdout",
     "output_type": "stream",
     "text": [
      "{0: 16, 1: 11, 2: 9}\n",
      "{0: 'yes', 1: 'no', 2: 'no'}\n",
      "{16: 'yes', 11: 'no', 9: 'no'}\n"
     ]
    }
   ],
   "source": [
    "a_dictionary\n",
    "# list out keys and values separately\n",
    "key_list = list(a_dictionary.keys())\n",
    "val_list = list(a_dictionary.values())\n",
    "p1={}\n",
    "p2={}\n",
    "for i in range(len(l2)):\n",
    "    p1[i]=key_list.index(l2[i])\n",
    "    p2[i]=val_list[p1[i]]\n",
    "    \n",
    "print(p1)\n",
    "print(p2)\n",
    "l3= list(p1.values())\n",
    "l4= list(p2.values())\n",
    "dictionary = dict(zip(l3,l4))\n",
    "print(dictionary)"
   ]
  },
  {
   "cell_type": "code",
   "execution_count": 62,
   "metadata": {},
   "outputs": [
    {
     "name": "stdout",
     "output_type": "stream",
     "text": [
      "NO\n"
     ]
    }
   ],
   "source": [
    "N='no'\n",
    "y=0\n",
    "n=0\n",
    "for key in dictionary:  \n",
    "    if dictionary[key] == N:  \n",
    "        n = n + 1\n",
    "    else:\n",
    "         y=y+1\n",
    "\n",
    "            \n",
    "if(n>y):\n",
    "    print('NO')\n",
    "else:\n",
    "    print('Yes')\n",
    "    \n",
    "     \n"
   ]
  },
  {
   "cell_type": "code",
   "execution_count": 63,
   "metadata": {},
   "outputs": [
    {
     "name": "stdout",
     "output_type": "stream",
     "text": [
      "[(2.5, 6.0), (3.75, 8.0), (2.25, 5.5), (3.25, 8.25), (2.75, 7.5), (4.5, 5.0), (3.5, 5.25), (3.0, 3.25), (4.0, 4.0), (4.25, 3.75), (2.0, 2.0), (5.0, 2.5), (8.25, 8.5), (5.75, 8.75), (4.75, 6.25), (5.5, 6.75), (5.25, 9.5), (7.0, 4.25), (7.5, 8.0), (7.25, 5.75)]\n"
     ]
    }
   ],
   "source": [
    "r1=list(zip(row1,row2))\n",
    "print(r1)"
   ]
  },
  {
   "cell_type": "code",
   "execution_count": 72,
   "metadata": {},
   "outputs": [
    {
     "name": "stdout",
     "output_type": "stream",
     "text": [
      "[2.5, 3.75, 2.25, 3.25, 2.75, 4.5, 3.5, 3.0, 4.0, 4.25, 2.0, 5.0, 8.25]\n",
      "[6.0, 8.0, 5.5, 8.25, 7.5, 5.0, 5.25, 3.25, 4.0, 3.75, 2.0, 2.5, 8.5]\n",
      "[5.75, 4.75, 5.5, 5.25, 7.0, 7.5, 7.25]\n",
      "[8.75, 6.25, 6.75, 9.5, 4.25, 8.0, 5.75]\n"
     ]
    },
    {
     "data": {
      "image/png": "[encoded data removed]",
      "text/plain": [
       "<Figure size 432x288 with 1 Axes>"
      ]
     },
     "metadata": {
      "needs_background": "light"
     },
     "output_type": "display_data"
    }
   ],
   "source": [
    "#done by Samarth kamat Be[Entc -1]\n",
    "r1={}\n",
    "r2={}\n",
    "r3={}\n",
    "r4={}\n",
    "for i in range(13):\n",
    "    r1[i]=row1[i]\n",
    "    r2[i]=row2[i]\n",
    "    \n",
    "for i in range(13,20,1):\n",
    "    r3[i]=row1[i]\n",
    "    r4[i]=row2[i]\n",
    "\n",
    "S1=list(r1.values())\n",
    "S2= list(r2.values())\n",
    "S3=list(r3.values())\n",
    "S4=list(r4.values())      \n",
    "print(S1)\n",
    "print(S2)\n",
    "print(S3)\n",
    "print(S4)\n",
    "# Ploting Scatter Points\n",
    "plt.scatter(S1, S2, c='#ef5423', label=' NO ',marker ='*')\n",
    "plt.scatter(S3, S4,c='#58b970', label=' YES ',marker ='D')\n",
    " \n",
    "plt.legend()\n",
    "plt.show()        \n",
    "#done by Samarth kamat Be[Entc -1]\n"
   ]
  },
  {
   "cell_type": "code",
   "execution_count": null,
   "metadata": {},
   "outputs": [],
   "source": []
  }
 ],
 "metadata": {
  "kernelspec": {
   "display_name": "Python 3",
   "language": "python",
   "name": "python3"
  },
  "language_info": {
   "codemirror_mode": {
    "name": "ipython",
    "version": 3
   },
   "file_extension": ".py",
   "mimetype": "text/x-python",
   "name": "python",
   "nbconvert_exporter": "python",
   "pygments_lexer": "ipython3",
   "version": "3.8.5"
  }
 },
 "nbformat": 4,
 "nbformat_minor": 4
}
