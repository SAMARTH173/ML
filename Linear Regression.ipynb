{
 "cells": [
  {
   "cell_type": "code",
   "execution_count": 8,
   "metadata": {},
   "outputs": [],
   "source": [
    "#Done By Samarth Kamat BE(8126)\n",
    "import statistics\n",
    "import math\n",
    "import numpy as np\n",
    "import pandas as pd\n",
    "import matplotlib.pyplot as plt"
   ]
  },
  {
   "cell_type": "code",
   "execution_count": 9,
   "metadata": {},
   "outputs": [],
   "source": [
    "x = [17, 13, 12, 15, 16, 14, 16, 16, 18, 19]\n",
    "y = [94, 73, 59, 80, 93, 85, 66, 79, 77, 91]"
   ]
  },
  {
   "cell_type": "code",
   "execution_count": 10,
   "metadata": {},
   "outputs": [
    {
     "name": "stdout",
     "output_type": "stream",
     "text": [
      "x_sum = 156\n",
      "y_sum = 797\n",
      "Mean of x: 15.6\n",
      "Mean of y: 79.7\n"
     ]
    }
   ],
   "source": [
    "n=len(x)\n",
    "x_sum = sum(x)\n",
    "y_sum = sum(y)\n",
    "x_bar = np.mean(x)\n",
    "y_bar = np.mean(y)\n",
    "print(\"x_sum =\", x_sum)\n",
    "print(\"y_sum =\", y_sum)\n",
    "print(\"Mean of x:\", x_bar)\n",
    "print(\"Mean of y:\",y_bar)"
   ]
  },
  {
   "cell_type": "code",
   "execution_count": 13,
   "metadata": {},
   "outputs": [
    {
     "name": "stdout",
     "output_type": "stream",
     "text": [
      "x_norm = [1.4, -2.6, -3.6, -0.6, 0.4, -1.6, 0.4, 0.4, 2.4, 3.4]\n",
      "y_norm = [14.3, -6.7, -20.7, 0.3, 13.3, 5.3, -13.7, -0.7, -2.7, 11.3]\n"
     ]
    }
   ],
   "source": [
    "x_norm = [round(i - x_bar, 2) for i in x]\n",
    "print(\"x_norm =\", x_norm)\n",
    "y_norm = [round(i - y_bar, 2) for i in y]\n",
    "print(\"y_norm =\", y_norm)"
   ]
  },
  {
   "cell_type": "code",
   "execution_count": 14,
   "metadata": {},
   "outputs": [
    {
     "name": "stdout",
     "output_type": "stream",
     "text": [
      "xy = [20.02, 17.42, 74.52, -0.18, 5.32, -8.48, -5.48, -0.28, -6.48, 38.42]\n",
      "xy_sum = 134.8\n"
     ]
    }
   ],
   "source": [
    "xy = [round(x_norm[i] * y_norm[i], 2) for i in range(len(x_norm))]\n",
    "print(\"xy =\", xy)\n",
    "xy_sum = round(sum(xy), 2)\n",
    "print(\"xy_sum =\", xy_sum)"
   ]
  },
  {
   "cell_type": "code",
   "execution_count": 15,
   "metadata": {},
   "outputs": [
    {
     "name": "stdout",
     "output_type": "stream",
     "text": [
      "xn_sq = [1.96, 6.76, 12.96, 0.36, 0.16, 2.56, 0.16, 0.16, 5.76, 11.56]\n",
      "yn_sq = [204.49, 44.89, 428.49, 0.09, 176.89, 28.09, 187.69, 0.49, 7.29, 127.69]\n"
     ]
    }
   ],
   "source": [
    "xn_sq = [round(i ** 2, 2) for i in x_norm]\n",
    "yn_sq = [round(i ** 2, 2) for i in y_norm]\n",
    "print(\"xn_sq =\", xn_sq)\n",
    "print(\"yn_sq =\", yn_sq)"
   ]
  },
  {
   "cell_type": "code",
   "execution_count": 16,
   "metadata": {},
   "outputs": [
    {
     "name": "stdout",
     "output_type": "stream",
     "text": [
      "xn_sum = 42.4\n",
      "yn_sum = 1206.1\n"
     ]
    }
   ],
   "source": [
    "xn_sum = round(sum(xn_sq), 2)\n",
    "yn_sum = round(sum(yn_sq), 2)\n",
    "print(\"xn_sum =\", xn_sum)\n",
    "print(\"yn_sum =\", yn_sum)"
   ]
  },
  {
   "cell_type": "code",
   "execution_count": 17,
   "metadata": {},
   "outputs": [
    {
     "name": "stdout",
     "output_type": "stream",
     "text": [
      "Sx = 2.17\n",
      "Sy = 11.58\n"
     ]
    }
   ],
   "source": [
    "Sx = round(math.sqrt(xn_sum / (len(x) - 1)), 2)\n",
    "print(\"Sx =\", Sx)\n",
    "Sy = round(math.sqrt(yn_sum / (len(y) - 1)), 2)\n",
    "print(\"Sy =\", Sy)"
   ]
  },
  {
   "cell_type": "code",
   "execution_count": 18,
   "metadata": {},
   "outputs": [
    {
     "name": "stdout",
     "output_type": "stream",
     "text": [
      "r = 0.6\n",
      "b = 3.2\n",
      "a = 29.78\n",
      "y =  29.78 + 3.2 x\n"
     ]
    }
   ],
   "source": [
    "r = round(xy_sum / math.sqrt(xn_sum * yn_sum), 2)\n",
    "print(\"r =\", r)\n",
    "\n",
    "b = round(r * Sy / Sx, 2)\n",
    "print(\"b =\", b)\n",
    "\n",
    "a = round(y_bar - b * x_bar, 2)\n",
    "print(\"a =\", a)\n",
    "# slope = r\n",
    "print('y = ', a, \"+\", b, \"x\")"
   ]
  },
  {
   "cell_type": "code",
   "execution_count": 23,
   "metadata": {},
   "outputs": [
    {
     "data": {
      "image/png": "[encoded data removed]",
      "text/plain": [
       "<Figure size 432x288 with 1 Axes>"
      ]
     },
     "metadata": {
      "needs_background": "light"
     },
     "output_type": "display_data"
    }
   ],
   "source": [
    "# Plotting Values and Regression Line\n",
    "max_x = np.max(x) + 100\n",
    "min_x = np.min(x) - 100\n",
    " \n",
    "# Calculating line values x and y\n",
    "X = np.linspace(min_x, max_x, 1000)\n",
    "Y = a +(b * X) \n",
    " \n"
   ]
  },
  {
   "cell_type": "code",
   "execution_count": null,
   "metadata": {},
   "outputs": [],
   "source": []
  }
 ],
 "metadata": {
  "kernelspec": {
   "display_name": "Python 3",
   "language": "python",
   "name": "python3"
  },
  "language_info": {
   "codemirror_mode": {
    "name": "ipython",
    "version": 3
   },
   "file_extension": ".py",
   "mimetype": "text/x-python",
   "name": "python",
   "nbconvert_exporter": "python",
   "pygments_lexer": "ipython3",
   "version": "3.8.5"
  }
 },
 "nbformat": 4,
 "nbformat_minor": 4
}
